{
 "cells": [
  {
   "cell_type": "markdown",
   "metadata": {},
   "source": [
    "Goal: Create a program to study the consequences of establishing habitat corridors between habitat patches\n",
    "\n",
    "Your framework will have three classes: Individual, Population, and Landscape. Individuals exist in populations and populations exist in landscapes.\n",
    "\n",
    "In every time step, individuals can stay in the population where they started or move to a new population, the probability of which is stored in a dispersal matrix.\n",
    "\n",
    "Individuals need to have: phenotype attribute\n",
    "\n",
    "Populations need: list of individuals\n",
    "    Constructor to create new list for ind in pop\n",
    "    Methods to add and remove ind\n",
    "    Calc and print the freq of phenotypes among ind\n",
    "    \n",
    "Lanscapes need: list of populations, dispersal matrix\n",
    "    Constructor to create new list for populations in that landscape\n",
    "    Method to use probabilities in dispersal matrix to determine if ind moves or stays each time\n",
    "\n",
    "Dispersal matrix - consists of the probabilities that an ind moves populations or stays in place each time step. \n",
    "    For this species (Warbling Babblers) this corresponds to the possibility of moving in a week\n",
    "    If an ind moves pops, remove it from the list of ind in the pop it started in and add it to the list in the pop it goes to\n",
    "        Do not modify a list that you are looping through inside of the loop itself, do it once the loop is complete\n",
    "    \n",
    "Notes:\n",
    "    Population or landscape constructors should set the starting population sizes\n",
    "    Total number of ind across all populations should stay constant, but ind pops change sizes\n",
    "    \n",
    "When simulation begins, all ind in a population should have the same phenotype. As ind move between pop through time steps (weeks), track the trajectory of phenotype freq and pop sizes\n",
    "    Will need to write a function to create these plots, either as a method of one of the classes or independent \n",
    "    Can overlay pt freq or pop sizes for diff pop on a single plt for easy comparison "
   ]
  },
  {
   "cell_type": "code",
   "execution_count": null,
   "metadata": {},
   "outputs": [],
   "source": [
    "#Import any needed modules\n",
    "import random\n",
    "import matplotlib.pyplot as plt\n",
    "import numpy as np"
   ]
  },
  {
   "cell_type": "markdown",
   "metadata": {},
   "source": [
    "Individual class notes:\n",
    "Needs at minimum a phenotype attribute"
   ]
  },
  {
   "cell_type": "code",
   "execution_count": null,
   "metadata": {},
   "outputs": [],
   "source": [
    "#Create individual class, with each individual having a phenotype attribute\n",
    "class individual:\n",
    "    \"\"\"Class to hold information about individuals\"\"\"\n",
    "    \n",
    "    #Create constructor to construct individuals\n",
    "    def __init__(self,id,pt)\n",
    "    \"\"\"Used to create individuals and assign them an id and phenotype(pt)\"\"\"\n",
    "    \n",
    "    self.id = id\n",
    "    self.pt = pt"
   ]
  },
  {
   "cell_type": "markdown",
   "metadata": {},
   "source": [
    "Population class notes:\n",
    "Needs at minimum a list of individuals"
   ]
  },
  {
   "cell_type": "code",
   "execution_count": null,
   "metadata": {},
   "outputs": [],
   "source": [
    "#Create population class\n",
    "class population:\n",
    "    \"\"\"Class to hold information about populations\"\"\"\n",
    "    \n",
    "    #Create constructor to create lists of individuals in the population, defaulting to a population size of 10\n",
    "    def __init__(self,id,pt=\"brown\",popSize=10):\n",
    "        \"\"\"Creates list of individuals in the population\"\"\"\n",
    "        \n",
    "        self.popSize = popSize\n",
    "        \n",
    "        #Create list of individuals in population\n",
    "        for num in popnum:\n",
    "            self.indPop%d % (popnum) = []\n",
    "        \n",
    "        #Create individuals and add them to the population list\n",
    "        for num in range(popSize):\n",
    "            self.popIndividuals.append(individal(id=num))\n",
    "    \n",
    "    #Method to add and remove individuals from the populations\n",
    "    def movePops(self):\n",
    "        \"\"\"Adds and removes individuals to and from populations as called by the landscape class\"\"\"\n",
    "        \n",
    "        \n",
    "        #Write loop to loop through all individuals in a population, followed by an if statement to move those ind to the new population\n",
    "        for ind in indPop%d % (popnum):\n",
    "            if choice == \"move\":\n",
    "                if popnum == 0:\n",
    "                    indPop1.append(ind)\n",
    "                elif popnum == 1:\n",
    "                    indPop0.append(ind)\n",
    "                    \n",
    "        \n",
    "    #Method to calculate and print the frequency of phenotypes in the population\n",
    "    def calcPtFreq(self):\n",
    "        \"\"\"Calculates the frequency of phenotypes in the population\"\"\"\n",
    "        \n",
    "        #set up forloop to go through each population\n",
    "        for pop in popList:\n",
    "            #Update population size\n",
    "            popsize = count(ind)\n",
    "            #Calculate the number of ind with the brown phenotype\n",
    "            if pt == \"brown\":\n",
    "                bn=count(pt)\n",
    "                #Calculate the frequenct of the brown phenotype in the population\n",
    "                bnf = bn / popSize\n",
    "            #Calculate the white phenotype frequency using the same method\n",
    "            if pt == \"white\":\n",
    "                wt=count(pt)\n",
    "                wtf = wt / popSize\n",
    "        \n",
    "        \n",
    "        print(\"The frequency of the brown phenotype in population %pop is %d, and the frequency of the white phenotype is %d.\" % (pop,bnf,wtf))"
   ]
  },
  {
   "cell_type": "markdown",
   "metadata": {},
   "source": [
    "Landscape class notes:\n",
    "Need at minimum a list of populations and a dispersal matrix\n",
    "\n",
    "Dispersal matrix stores probabilities that an individual disperses or stays in place\n",
    "    May be useful to use the random.choices\n"
   ]
  },
  {
   "cell_type": "code",
   "execution_count": null,
   "metadata": {},
   "outputs": [],
   "source": [
    "#Create landscape class\n",
    "class landscape:\n",
    "    \"\"\"Class to hold information about landscapes\"\"\"\n",
    "    \n",
    "    #Create constructor to create list of populations in that landscape, and assign each population a number\n",
    "    def __init__(self,pt,popid,popnum=1)\n",
    "    \n",
    "    self.popid = popid\n",
    "    self.popnum = popnum\n",
    "    \n",
    "    #create list of populations in that landscape\n",
    "    self.popList = []\n",
    "    \n",
    "    #Create populations and add them to the list\n",
    "    for num in range(popnum):\n",
    "        self.poplist.append(population%d(popid=num) % (num))\n",
    "        if popnum == 1:\n",
    "            pt = \"white\"\"\n",
    "        else:\n",
    "            pt = \"brown\"\n",
    "        \n",
    "    #with methods to use the probabilities in a dispersal matrix to determine if the individual moves or stays\n",
    "    def probMove(self):\n",
    "        \"\"\"This method contains a dispersal matrix to determine the probability of if an individual moves or stays in a population\"\"\"\n",
    "        \n",
    "        #Create the dispersal matrix, with a .8 chance ind in pop1 will not move, a a.2 chance ind in pop1 will move to pop2\n",
    "        #a .7 chance ind in pop2 will not move, and a .3 chance ind in pop2 will move to pop1\n",
    "        dispMatrix = {[0.8,0.2],\n",
    "                     [0.3,0.7]}\n",
    "        \n",
    "        #Choice matrix created to correspond to the dispMatrix, both to be used later to determine if the individual will move pops or not\n",
    "        choiceMatrix = {[stay,leave],\n",
    "                       [leave,stay]}\n",
    "        \n",
    "        #Use the matrices to determine if an individual in a given population will move populations or stay in its natal population\n",
    "        for i in range(len(popnum)):\n",
    "            random.choices(result=choiceMatrix[i],\n",
    "                           weight=dispMatrix[i],\n",
    "                           k=popSize)\n",
    "            if result == \"move\":\n",
    "                #call move function from population class"
   ]
  },
  {
   "cell_type": "code",
   "execution_count": null,
   "metadata": {},
   "outputs": [],
   "source": [
    "#Run code\n",
    "\n",
    "#Create 2 populations of 10 individuals each, one with brown phenotype and one with white phenotype\n",
    "landscape1 = landscape(popnum=1)"
   ]
  }
 ],
 "metadata": {
  "kernelspec": {
   "display_name": "Python 3",
   "language": "python",
   "name": "python3"
  },
  "language_info": {
   "codemirror_mode": {
    "name": "ipython",
    "version": 3
   },
   "file_extension": ".py",
   "mimetype": "text/x-python",
   "name": "python",
   "nbconvert_exporter": "python",
   "pygments_lexer": "ipython3",
   "version": "3.6.4"
  }
 },
 "nbformat": 4,
 "nbformat_minor": 2
}
